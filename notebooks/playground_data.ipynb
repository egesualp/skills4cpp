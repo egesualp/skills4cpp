{
 "cells": [
  {
   "cell_type": "code",
   "execution_count": 1,
   "id": "aeed5bf7",
   "metadata": {},
   "outputs": [
    {
     "name": "stderr",
     "output_type": "stream",
     "text": [
      "/home/esualp/miniconda3/envs/thesis/lib/python3.11/site-packages/tqdm/auto.py:21: TqdmWarning: IProgress not found. Please update jupyter and ipywidgets. See https://ipywidgets.readthedocs.io/en/stable/user_install.html\n",
      "  from .autonotebook import tqdm as notebook_tqdm\n"
     ]
    },
    {
     "name": "stdout",
     "output_type": "stream",
     "text": [
      "🚀 Welcome to the Data Exploration Guide!\n",
      "📁 Current separator token: '<SEP>'\n",
      "💡 This notebook will help you understand the data structure step by step\n"
     ]
    }
   ],
   "source": [
    "# ================================================\n",
    "# 🎯 DATA EXPLORATION NOTEBOOK - Skills4Cpp\n",
    "# ================================================\n",
    "# This notebook helps you understand the data structure and functions\n",
    "# without loading the full (huge) datasets\n",
    "\n",
    "from data import Data\n",
    "from utils import SEP_TOKEN\n",
    "import re\n",
    "import pandas as pd\n",
    "from typing import List, Tuple\n",
    "\n",
    "print(\"🚀 Welcome to the Data Exploration Guide!\")\n",
    "print(f\"📁 Current separator token: '{SEP_TOKEN}'\")\n",
    "print(\"💡 This notebook will help you understand the data structure step by step\")"
   ]
  },
  {
   "cell_type": "code",
   "execution_count": null,
   "id": "2b1f6879",
   "metadata": {},
   "outputs": [],
   "source": [
    "# ================================================\n",
    "# 📊 1. UNDERSTANDING THE DATA STRUCTURE\n",
    "# ================================================\n",
    "print(\"📊 1. UNDERSTANDING THE DATA STRUCTURE\")\n",
    "print(\"=\" * 50)\n",
    "\n",
    "# Let's look at what a typical data pair looks likeA\n",
    "sample_doc1 = \"role: Software Engineer \\n description: Develop software<SEP>role: Data Scientist \\n description: Analyze data\"\n",
    "sample_doc2 = \"esco role: Software Developer \\n description: Creates software applications\"\n",
    "\n",
    "print(\"🔍 A typical data pair:\")\n",
    "print(f\"📄 Document 1 (career history): {sample_doc1}\")\n",
    "print(f\"📄 Document 2 (target ESCO occupation): {sample_doc2}\")\n",
    "print()\n",
    "\n",
    "print(\"🔍 Breaking it down:\")\n",
    "print(\"   • Document 1: Your career journey (multiple jobs separated by <SEP>)\")\n",
    "print(\"   • Document 2: The target occupation you might transition to\")\n",
    "print(\"   • Goal: Learn patterns like 'Software Engineer → Data Scientist → Software Developer'\")\n"
   ]
  },
  {
   "cell_type": "code",
   "execution_count": null,
   "id": "4d9f695e",
   "metadata": {},
   "outputs": [],
   "source": [
    "# ================================================\n",
    "# 🎭 2. EXPLORING UTILITY FUNCTIONS\n",
    "# ================================================\n",
    "print(\"🎭 2. EXPLORING UTILITY FUNCTIONS\")\n",
    "print(\"=\" * 50)\n",
    "\n",
    "# Create some sample data to demonstrate functions|\n",
    "sample_pairs = [\n",
    "    (\"role: Software Engineer \\n description: Develop software<SEP>role: Data Scientist \\n description: Analyze data\", \"esco role: Software Developer \\n description: Creates software\"),\n",
    "    (\"role: Teacher \\n description: Teach students<SEP>role: Professor \\n description: Research and teach\", \"esco role: Lecturer \\n description: Delivers lectures\"),\n",
    "    (\"role: Nurse \\n description: Patient care\", \"esco role: Healthcare Assistant \\n description: Provides care\")\n",
    "]\n",
    "\n",
    "print(\"🔍 Sample dataset with 3 career examples:\")\n",
    "for i, (doc1, doc2) in enumerate(sample_pairs, 1):\n",
    "    print(f\"\\n{i}. Career Path {i}:\")\n",
    "    print(f\"   Input:  {doc1}\")\n",
    "    print(f\"   Target: {doc2}\")\n",
    "    print()\n",
    "\n",
    "# Demonstrate title extraction\n",
    "print(\"📝 DEMONSTRATING TITLE EXTRACTION:\")\n",
    "print(\"The _extract_titles function pulls out just the job titles:\")\n",
    "for i, (doc1, doc2) in enumerate(sample_pairs, 1):\n",
    "    roles = re.findall(r\"role: (.*?)\\n\", doc1)\n",
    "    esco_role = re.findall(r\"esco role: (.*?)\\n\", doc2)[0]\n",
    "    print(f\"{i}. {' → '.join(roles)} → {esco_role}\")\n",
    "\n",
    "print(\"\\n\" + \"=\"*50)\n"
   ]
  },
  {
   "cell_type": "code",
   "execution_count": null,
   "id": "c724b59e",
   "metadata": {},
   "outputs": [],
   "source": [
    "# ================================================\n",
    "# 🎯 3. UNDERSTANDING THE MINUS_LAST FUNCTION\n",
    "# ================================================\n",
    "print(\"🎯 3. UNDERSTANDING THE MINUS_LAST FUNCTION\")\n",
    "print(\"=\" * 50)\n",
    "\n",
    "print(\"🔍 What does 'minus_last' do?\")\n",
    "print(\"   • Takes your career history and removes the LAST job\")\n",
    "print(\"   • Purpose: Create training examples for 'career transition prediction'\")\n",
    "print(\"   • Example: 'Job1 → Job2 → Job3' becomes 'Job1 → Job2' (predict Job3)\")\n",
    "print()\n",
    "\n",
    "# Demonstrate with our sample data\n",
    "sample_doc1 = \"role: Software Engineer \\n description: Develop software<SEP>role: Data Scientist \\n description: Analyze data<SEP>role: ML Engineer \\n description: Build models\"\n",
    "sample_doc2 = \"esco role: AI Engineer \\n description: Develops AI systems\"\n",
    "\n",
    "print(f\"📄 Original career path: {sample_doc1}\")\n",
    "print(f\"🎯 Target prediction: {sample_doc2}\")\n",
    "print()\n",
    "\n",
    "# Show what minus_last does\n",
    "segments = sample_doc1.split(SEP_TOKEN)\n",
    "print(\"🔍 Breaking into segments:\")\n",
    "for i, segment in enumerate(segments, 1):\n",
    "    print(f\"   {i}. {segment}\")\n",
    "\n",
    "print(f\"\\n✂️  After minus_last: {SEP_TOKEN.join(segments[:-1])}\")\n",
    "print(\"🎯 Still predict: ML Engineer\")\n",
    "print(\"💡 Idea: 'Learn from incomplete career paths to predict the next step'\")\n",
    "\n",
    "print(\"\\n\" + \"=\"*50)\n"
   ]
  },
  {
   "cell_type": "code",
   "execution_count": null,
   "id": "28e1d92f",
   "metadata": {},
   "outputs": [],
   "source": [
    "# ================================================\n",
    "# 🗂️  4. UNDERSTANDING DATASET TYPES\n",
    "# ================================================\n",
    "print(\"🗂️  4. UNDERSTANDING DATASET TYPES\")\n",
    "print(\"=\" * 50)\n",
    "\n",
    "print(\"🔍 Available Dataset Types:\")\n",
    "print(\"   1. 'decorte' - Anonymous working histories with ESCO annotations\")\n",
    "print(\"   2. 'decorte_esco' - Same as decorte but all experiences in ESCO format\")\n",
    "print(\"   3. 'karrierewege' - Career paths from German job market\")\n",
    "print(\"   4. 'karrierewege_occ' - Karrierewege with occupational info\")\n",
    "print(\"   5. 'karrierewege_100k' - Larger Karrierewege dataset\")\n",
    "print(\"   6. 'karrierewege_cp' - Karrierewege with career path data\")\n",
    "print()\n",
    "\n",
    "print(\"🔍 Dataset Characteristics:\")\n",
    "print(\"   • decorte: Real career histories with standardized ESCO occupations\")\n",
    "print(\"   • karrierewege: German career trajectories with language variants\")\n",
    "print(\"   • _100k: Larger dataset (100k+ examples)\")\n",
    "print(\"   • _cp: Career path specific processing\")\n",
    "print(\"   • _free: Uses free text instead of ESCO format\")\n",
    "print()\n",
    "\n",
    "print(\"💡 Key Differences:\")\n",
    "print(\"   • ESCO format: Standardized job titles with descriptions\")\n",
    "print(\"   • Free text: Raw job titles and descriptions\")\n",
    "print(\"   • Size: Some datasets have 100k+ examples (hence the loading time!)\")\n",
    "print()\n",
    "\n",
    "print(\"🧠 Memory Strategy:\")\n",
    "print(\"   • Load only what you need: Use smaller datasets for exploration\")\n",
    "print(\"   • Work with subsets: Take first N examples for testing\")\n",
    "print(\"   • Use language variants: 'en_free' datasets are often smaller\")\n"
   ]
  },
  {
   "cell_type": "code",
   "execution_count": null,
   "id": "69d4f677",
   "metadata": {},
   "outputs": [],
   "source": [
    "# ================================================\n",
    "# 🧪 5. WORKING WITH SMALL SUBSETS (Smart Testing)\n",
    "# ================================================\n",
    "print(\"🧪 5. WORKING WITH SMALL SUBSETS (Smart Testing)\")\n",
    "print(\"=\" * 50)\n",
    "\n",
    "print(\"🔍 Why work with subsets?\")\n",
    "print(\"   • Full datasets are HUGE (100k+ examples)\")\n",
    "print(\"   • Takes minutes to load, uses lots of memory\")\n",
    "print(\"   • For development/testing: Small samples are perfect!\")\n",
    "print()\n",
    "\n",
    "print(\"💡 Strategy 1: Create your own small dataset\")\n",
    "# Create a tiny dataset for testing\n",
    "tiny_pairs = [\n",
    "    (\"role: Junior Developer \\n description: Entry level coding\", \"esco role: Software Developer \\n description: Creates software\"),\n",
    "    (\"role: Data Analyst \\n description: Work with data\", \"esco role: Data Scientist \\n description: Advanced data analysis\"),\n",
    "    (\"role: Teacher \\n description: Teach students<SEP>role: Principal \\n description: School management\", \"esco role: Education Manager \\n description: Manages educational programs\")\n",
    "]\n",
    "\n",
    "print(\"📊 Our tiny test dataset:\")\n",
    "for i, (career, target) in enumerate(tiny_pairs, 1):\n",
    "    print(f\"{i}. {career}\")\n",
    "    print(f\"   → {target}\")\n",
    "    print()\n",
    "\n",
    "print(\"💡 Strategy 2: Load just a few examples\")\n",
    "print(\"   • Stop loading after N examples\")\n",
    "print(\"   • Use sampling techniques\")\n",
    "print(\"   • Perfect for understanding structure without waiting!\")\n",
    "print()\n",
    "\n",
    "print(\"🔍 Benefits of small datasets:\")\n",
    "print(\"   • Fast loading (seconds vs minutes)\")\n",
    "print(\"   • Easy to inspect and understand\")\n",
    "print(\"   • Perfect for debugging functions\")\n",
    "print(\"   • Can manually verify correctness\")\n",
    "print()\n",
    "\n",
    "print(\"🧠 Pro Tip:\")\n",
    "print(\"   • Start with 5-10 examples to understand patterns\")\n",
    "print(\"   • Test your functions on this small set first\")\n",
    "print(\"   • Then gradually increase size for performance testing\")\n"
   ]
  },
  {
   "cell_type": "code",
   "execution_count": null,
   "id": "b6dd37f4",
   "metadata": {},
   "outputs": [],
   "source": [
    "# ================================================\n",
    "# 🎪 6. UNDERSTANDING STAGES & DATA PROCESSING\n",
    "# ================================================\n",
    "print(\"🎪 6. UNDERSTANDING STAGES & DATA PROCESSING\")\n",
    "print(\"=\" * 50)\n",
    "\n",
    "print(\"🔍 Available stages in get_data():\")\n",
    "print(\"   1. 'embedding_finetuning' - Full career paths for representation learning\")\n",
    "print(\"   2. 'transformation_finetuning' - Career paths with last job removed\")\n",
    "print(\"   3. 'evaluation' - Same as transformation_finetuning\")\n",
    "print()\n",
    "\n",
    "print(\"🎯 What each stage does:\")\n",
    "print(\"   • embedding_finetuning: Learn general career patterns\")\n",
    "print(\"     Input:  'Job1 → Job2 → Job3' → Target: 'Job4'\")\n",
    "print(\"     Use:   Training embeddings, learning career trajectories\")\n",
    "print()\n",
    "print(\"   • transformation_finetuning: Learn transition patterns\")\n",
    "print(\"     Input:  'Job1 → Job2' → Target: 'Job3'\")\n",
    "print(\"     Use:   Predicting next career steps, career counseling\")\n",
    "print()\n",
    "\n",
    "print(\"🔍 ONLY_TITLES parameter:\")\n",
    "print(\"   • ONLY_TITLES=False: Full descriptions (rich information)\")\n",
    "print(\"   • ONLY_TITLES=True: Just job titles (simpler, faster)\")\n",
    "print(\"   • Choose based on your model needs!\")\n",
    "print()\n",
    "\n",
    "print(\"💡 Testing stages with our tiny dataset:\")\n",
    "# Simulate what different stages would do\n",
    "career_path = \"role: Developer \\n description: Code<SEP>role: Senior Dev \\n description: Lead teams<SEP>role: Architect \\n description: Design systems\"\n",
    "\n",
    "print(f\"Original: {career_path}\")\n",
    "print(\"Target:   esco role: Tech Lead \\n description: Leads technical teams\")\n",
    "\n",
    "# Simulate different stages\n",
    "segments = career_path.split(SEP_TOKEN)\n",
    "print(f\"\\n📊 embedding_finetuning: {SEP_TOKEN.join(segments)}\")\n",
    "print(f\"🎯 transformation_finetuning: {SEP_TOKEN.join(segments[:-1])}\")\n",
    "print(\"💡 Both predict: Architect\")\n",
    "\n",
    "print(\"\\n\" + \"=\"*50)\n"
   ]
  },
  {
   "cell_type": "code",
   "execution_count": null,
   "id": "b56a09b4",
   "metadata": {},
   "outputs": [],
   "source": [
    "# ================================================\n",
    "# 🚀 7. PRACTICAL NEXT STEPS\n",
    "# ================================================\n",
    "print(\"🚀 7. PRACTICAL NEXT STEPS\")\n",
    "print(\"=\" * 50)\n",
    "\n",
    "print(\"💡 Now that you understand the structure, here's how to proceed:\")\n",
    "print()\n",
    "\n",
    "print(\"🎯 Step 1: Start with a small, manageable dataset\")\n",
    "print(\"   data = Data('karrierewege_occ', ONLY_TITLES=True)  # Often smaller\")\n",
    "print(\"   # or\")\n",
    "print(\"   data = Data('decorte', ONLY_TITLES=True)  # Good starting point\")\n",
    "print()\n",
    "\n",
    "print(\"🎯 Step 2: Get a subset of data for exploration\")\n",
    "print(\"   train, val, test = data.get_data('embedding_finetuning')\")\n",
    "print(\"   # Work with first 100 examples\")\n",
    "print(\"   small_train = train[:100]\")\n",
    "print(\"   small_val = val[:10]\")\n",
    "print(\"   small_test = test[:10]\")\n",
    "print()\n",
    "\n",
    "print(\"🎯 Step 3: Explore the data structure\")\n",
    "print(\"   print('First training example:')\")\n",
    "print(\"   print(small_train[0])\")\n",
    "print(\"   print('\\\\nLabels in dataset:', len(data.labels))\")\n",
    "print(\"   print('First 5 labels:', data.labels[:5])\")\n",
    "print()\n",
    "\n",
    "print(\"🎯 Step 4: Test different configurations\")\n",
    "print(\"   # Try different stages\")\n",
    "print(\"   train_trans, val_trans, test_trans = data.get_data('transformation_finetuning')\")\n",
    "print(\"   \")\n",
    "print(\"   # Try with full descriptions\")\n",
    "print(\"   data_full = Data('decorte', ONLY_TITLES=False)\")\n",
    "print(\"   train_full, _, _ = data_full.get_data('embedding_finetuning')\")\n",
    "print()\n",
    "\n",
    "print(\"🎯 Step 5: Scale up gradually\")\n",
    "print(\"   # Start with 100, then 1000, then full dataset\")\n",
    "print(\"   # Monitor memory usage and loading time\")\n",
    "print()\n",
    "\n",
    "print(\"🔥 Pro Tips:\")\n",
    "print(\"   • Use ONLY_TITLES=True for faster loading and simpler models\")\n",
    "print(\"   • Start with 'karrierewege_occ' - often smaller than others\")\n",
    "print(\"   • Use subsets during development, full datasets for final training\")\n",
    "print(\"   • Monitor memory: Large datasets can use 10GB+ RAM\")\n",
    "print()\n",
    "\n",
    "print(\"🎉 You're ready to explore! The key is starting small and scaling up.\")\n",
    "print(\"💡 Remember: Understanding 100 examples well is better than loading 100k poorly!\")\n",
    "\n",
    "print(\"\\n\" + \"=\"*50)\n",
    "print(\"🏆 CONGRATULATIONS! You now understand:\")\n",
    "print(\"   ✅ Data structure (career paths → target occupations)\")\n",
    "print(\"   ✅ Utility functions (minus_last, extract_titles)\")\n",
    "print(\"   ✅ Dataset types and their differences\")\n",
    "print(\"   ✅ Processing stages and their purposes\")\n",
    "print(\"   ✅ Smart strategies for working with large datasets\")\n",
    "print(\"=\"*50)\n"
   ]
  },
  {
   "cell_type": "code",
   "execution_count": null,
   "id": "9ebd8a7d",
   "metadata": {},
   "outputs": [],
   "source": [
    "# ================================================\n",
    "# 🧪 PRACTICAL EXAMPLE: Working with Small Data\n",
    "# ================================================\n",
    "print(\"🧪 PRACTICAL EXAMPLE: Working with Small Data\")\n",
    "print(\"=\" * 50)\n",
    "\n",
    "# Create a mock version of the loading functions to avoid the huge datasets\n",
    "def create_small_test_dataset():\n",
    "    \"\"\"Create a small dataset for testing - simulates what the real functions do\"\"\"\n",
    "    return [\n",
    "        # (career_history, target_occupation)\n",
    "        (\"role: Junior Developer \\n description: Entry level coding<SEP>role: Software Engineer \\n description: Full stack development\",\n",
    "         \"esco role: Senior Developer \\n description: Leads development projects\"),\n",
    "\n",
    "        (\"role: Data Analyst \\n description: Basic data analysis<SEP>role: Business Analyst \\n description: Business insights\",\n",
    "         \"esco role: Data Scientist \\n description: Advanced analytics and modeling\"),\n",
    "\n",
    "        (\"role: Teacher \\n description: Elementary education<SEP>role: Department Head \\n description: Curriculum management\",\n",
    "         \"esco role: Education Manager \\n description: Manages educational programs\"),\n",
    "\n",
    "        (\"role: Nurse \\n description: Patient care<SEP>role: Senior Nurse \\n description: Team coordination\",\n",
    "         \"esco role: Nursing Manager \\n description: Manages nursing staff\"),\n",
    "\n",
    "        (\"role: Sales Rep \\n description: Direct sales<SEP>role: Sales Manager \\n description: Team leadership\",\n",
    "         \"esco role: Sales Director \\n description: Strategic sales planning\")\n",
    "    ]\n",
    "\n",
    "# Simulate the Data class functionality\n",
    "class MockData:\n",
    "    def __init__(self, data_type, ONLY_TITLES=False):\n",
    "        self.data_type = data_type\n",
    "        self.only_titles = ONLY_TITLES\n",
    "        self.train_pairs = create_small_test_dataset()\n",
    "        self.val_pairs = create_small_test_dataset()[:2]  # Just 2 for validation\n",
    "        self.test_pairs = create_small_test_dataset()[:1]  # Just 1 for testing\n",
    "        self.labels = list(set([pair[1] for pair in self.train_pairs + self.val_pairs + self.test_pairs]))\n",
    "\n",
    "    def get_data(self, stage):\n",
    "        if stage == 'embedding_finetuning':\n",
    "            if self.only_titles:\n",
    "                return self._extract_titles(self.train_pairs), self._extract_titles(self.val_pairs), self._extract_titles(self.test_pairs)\n",
    "            else:\n",
    "                return self.train_pairs, self.val_pairs, self.test_pairs\n",
    "        elif stage in ['transformation_finetuning', 'evaluation']:\n",
    "            if self.only_titles:\n",
    "                return self._minus_last(self._extract_titles(self.train_pairs)), self._minus_last(self._extract_titles(self.val_pairs)), self._minus_last(self._extract_titles(self.test_pairs))\n",
    "            else:\n",
    "                return self._minus_last(self.train_pairs), self._minus_last(self.val_pairs), self._minus_last(self.test_pairs)\n",
    "\n",
    "    @staticmethod\n",
    "    def _minus_last(data_pairs):\n",
    "        \"\"\"Remove last segment from career histories\"\"\"\n",
    "        result = []\n",
    "        for doc1, doc2 in data_pairs:\n",
    "            segments = doc1.split(SEP_TOKEN)\n",
    "            if len(segments) > 1:\n",
    "                new_doc1 = SEP_TOKEN.join(segments[:-1])\n",
    "                result.append((new_doc1, doc2))\n",
    "        return result\n",
    "\n",
    "    @staticmethod\n",
    "    def _extract_titles(data_pairs):\n",
    "        \"\"\"Extract just the job titles\"\"\"\n",
    "        result = []\n",
    "        for doc1, doc2 in data_pairs:\n",
    "            roles = re.findall(r\"role: (.*?)\\n\", doc1)\n",
    "            esco_role = re.findall(r\"esco role: (.*?)\\n\", doc2)[0]\n",
    "            result.append((SEP_TOKEN.join(roles), esco_role))\n",
    "        return result\n",
    "\n",
    "# Test it!\n",
    "print(\"🔍 Creating a small mock dataset (5 examples)...\")\n",
    "mock_data = MockData('decorte', ONLY_TITLES=False)\n",
    "\n",
    "print(f\"✅ Created dataset with {len(mock_data.train_pairs)} training examples\")\n",
    "print(f\"📊 Validation set: {len(mock_data.val_pairs)} examples\")\n",
    "print(f\"🧪 Test set: {len(mock_data.test_pairs)} examples\")\n",
    "print(f\"🏷️  Unique labels: {len(mock_data.labels)}\")\n",
    "print()\n",
    "\n",
    "print(\"🔍 Let's look at the first example:\")\n",
    "train, val, test = mock_data.get_data('embedding_finetuning')\n",
    "print(f\"Training example 1: {train[0]}\")\n",
    "print()\n",
    "\n",
    "print(\"🎯 Now try with ONLY_TITLES=True:\")\n",
    "mock_data_titles = MockData('decorte', ONLY_TITLES=True)\n",
    "train_titles, val_titles, test_titles = mock_data_titles.get_data('embedding_finetuning')\n",
    "print(f\"Title-only example: {train_titles[0]}\")\n",
    "print()\n",
    "\n",
    "print(\"✂️  Try transformation_finetuning (removes last job):\")\n",
    "train_trans, _, _ = mock_data.get_data('transformation_finetuning')\n",
    "print(f\"After minus_last: {train_trans[0]}\")\n",
    "print(\"💡 Notice: 'Software Engineer' was removed, still predict 'Senior Developer'\")\n",
    "\n",
    "print(\"\\n🎉 Success! Now you can experiment without loading huge datasets!\")\n",
    "print(\"💡 Use this approach for quick testing and understanding\")\n"
   ]
  },
  {
   "cell_type": "code",
   "execution_count": 3,
   "id": "5348fe61",
   "metadata": {},
   "outputs": [
    {
     "ename": "TypeError",
     "evalue": "unsupported operand type(s) for +: 'NoneType' and 'NoneType'",
     "output_type": "error",
     "traceback": [
      "\u001b[0;31m---------------------------------------------------------------------------\u001b[0m",
      "\u001b[0;31mTypeError\u001b[0m                                 Traceback (most recent call last)",
      "Cell \u001b[0;32mIn[3], line 1\u001b[0m\n\u001b[0;32m----> 1\u001b[0m data \u001b[38;5;241m=\u001b[39m \u001b[43mData\u001b[49m\u001b[43m(\u001b[49m\u001b[38;5;124;43m'\u001b[39;49m\u001b[38;5;124;43mkarrierewege+\u001b[39;49m\u001b[38;5;124;43m'\u001b[39;49m\u001b[43m,\u001b[49m\u001b[43m \u001b[49m\u001b[43mmax_rows\u001b[49m\u001b[43m \u001b[49m\u001b[38;5;241;43m=\u001b[39;49m\u001b[43m \u001b[49m\u001b[38;5;241;43m1000\u001b[39;49m\u001b[43m)\u001b[49m\n\u001b[1;32m      2\u001b[0m train, val, test \u001b[38;5;241m=\u001b[39m data\u001b[38;5;241m.\u001b[39mget_data(\u001b[38;5;124m'\u001b[39m\u001b[38;5;124membedding_finetuning\u001b[39m\u001b[38;5;124m'\u001b[39m)\n\u001b[1;32m      3\u001b[0m df_train \u001b[38;5;241m=\u001b[39m pd\u001b[38;5;241m.\u001b[39mDataFrame(train)\n",
      "File \u001b[0;32m~/repos/skills4cpp/src/data.py:45\u001b[0m, in \u001b[0;36mData.__init__\u001b[0;34m(self, DATA_TYPE, DOC_1_PROMPT, DOC_2_PROMPT, ONLY_TITLES, max_rows)\u001b[0m\n\u001b[1;32m     43\u001b[0m \u001b[38;5;28mself\u001b[39m\u001b[38;5;241m.\u001b[39mtest_pairs \u001b[38;5;241m=\u001b[39m \u001b[38;5;28;01mNone\u001b[39;00m\n\u001b[1;32m     44\u001b[0m \u001b[38;5;28mself\u001b[39m\u001b[38;5;241m.\u001b[39mlabels \u001b[38;5;241m=\u001b[39m \u001b[38;5;28;01mNone\u001b[39;00m\n\u001b[0;32m---> 45\u001b[0m \u001b[38;5;28;43mself\u001b[39;49m\u001b[38;5;241;43m.\u001b[39;49m\u001b[43m__load_data\u001b[49m\u001b[43m(\u001b[49m\u001b[43m)\u001b[49m\n",
      "File \u001b[0;32m~/repos/skills4cpp/src/data.py:80\u001b[0m, in \u001b[0;36mData.__load_data\u001b[0;34m(self)\u001b[0m\n\u001b[1;32m     75\u001b[0m     \u001b[38;5;28mself\u001b[39m\u001b[38;5;241m.\u001b[39mtrain_pairs, \u001b[38;5;28mself\u001b[39m\u001b[38;5;241m.\u001b[39mval_pairs, \u001b[38;5;28mself\u001b[39m\u001b[38;5;241m.\u001b[39mtest_pairs \u001b[38;5;241m=\u001b[39m load_prepare_karrierewege(\n\u001b[1;32m     76\u001b[0m         consider_all_subspans_of_len_at_least_2\u001b[38;5;241m=\u001b[39m\u001b[38;5;28;01mTrue\u001b[39;00m, minus_last\u001b[38;5;241m=\u001b[39m\u001b[38;5;28;01mFalse\u001b[39;00m, language\u001b[38;5;241m=\u001b[39m\u001b[38;5;124m'\u001b[39m\u001b[38;5;124men_free_cp\u001b[39m\u001b[38;5;124m'\u001b[39m, max_rows\u001b[38;5;241m=\u001b[39m\u001b[38;5;28mself\u001b[39m\u001b[38;5;241m.\u001b[39mmax_rows\n\u001b[1;32m     77\u001b[0m     )\n\u001b[1;32m     79\u001b[0m \u001b[38;5;66;03m# Extract unique labels from the dataset\u001b[39;00m\n\u001b[0;32m---> 80\u001b[0m \u001b[38;5;28mself\u001b[39m\u001b[38;5;241m.\u001b[39mlabels \u001b[38;5;241m=\u001b[39m \u001b[38;5;28mlist\u001b[39m(\u001b[38;5;28mset\u001b[39m([pair[\u001b[38;5;241m1\u001b[39m] \u001b[38;5;28;01mfor\u001b[39;00m pair \u001b[38;5;129;01min\u001b[39;00m \u001b[38;5;28;43mself\u001b[39;49m\u001b[38;5;241;43m.\u001b[39;49m\u001b[43mtrain_pairs\u001b[49m\u001b[43m \u001b[49m\u001b[38;5;241;43m+\u001b[39;49m\u001b[43m \u001b[49m\u001b[38;5;28;43mself\u001b[39;49m\u001b[38;5;241;43m.\u001b[39;49m\u001b[43mval_pairs\u001b[49m \u001b[38;5;241m+\u001b[39m \u001b[38;5;28mself\u001b[39m\u001b[38;5;241m.\u001b[39mtest_pairs]))\n",
      "\u001b[0;31mTypeError\u001b[0m: unsupported operand type(s) for +: 'NoneType' and 'NoneType'"
     ]
    }
   ],
   "source": [
    "data = Data('karrierewege+', max_rows = 1000)\n",
    "train, val, test = data.get_data('embedding_finetuning')\n",
    "df_train = pd.DataFrame(train)\n",
    "df_train.iloc[1]\n",
    "df_train.info()\n",
    "print(\"\\n\".join(df_train.iloc[1].to_list()))\n"
   ]
  },
  {
   "cell_type": "code",
   "execution_count": 19,
   "id": "17868e4a",
   "metadata": {},
   "outputs": [
    {
     "data": {
      "application/vnd.jupyter.widget-view+json": {
       "model_id": "61d6bd9be60343d7a513b28ac7e3c049",
       "version_major": 2,
       "version_minor": 0
      },
      "text/plain": [
       "Map:   0%|          | 0/100 [00:00<?, ? examples/s]"
      ]
     },
     "metadata": {},
     "output_type": "display_data"
    },
    {
     "data": {
      "application/vnd.jupyter.widget-view+json": {
       "model_id": "e4a06df87f394cf8882cb30b31cb2523",
       "version_major": 2,
       "version_minor": 0
      },
      "text/plain": [
       "Map:   0%|          | 0/100 [00:00<?, ? examples/s]"
      ]
     },
     "metadata": {},
     "output_type": "display_data"
    },
    {
     "data": {
      "application/vnd.jupyter.widget-view+json": {
       "model_id": "d109858822ad4af1a5cb82c2c433d75e",
       "version_major": 2,
       "version_minor": 0
      },
      "text/plain": [
       "Map:   0%|          | 0/100 [00:00<?, ? examples/s]"
      ]
     },
     "metadata": {},
     "output_type": "display_data"
    },
    {
     "data": {
      "application/vnd.jupyter.widget-view+json": {
       "model_id": "b7bd9789a3fa4b80b288916372089c17",
       "version_major": 2,
       "version_minor": 0
      },
      "text/plain": [
       "Map:   0%|          | 0/100 [00:00<?, ? examples/s]"
      ]
     },
     "metadata": {},
     "output_type": "display_data"
    },
    {
     "data": {
      "application/vnd.jupyter.widget-view+json": {
       "model_id": "ed0a94e269064a04b8c057defbe72921",
       "version_major": 2,
       "version_minor": 0
      },
      "text/plain": [
       "Map:   0%|          | 0/100 [00:00<?, ? examples/s]"
      ]
     },
     "metadata": {},
     "output_type": "display_data"
    },
    {
     "data": {
      "application/vnd.jupyter.widget-view+json": {
       "model_id": "25362c3b5113468e9a1f77853e849c44",
       "version_major": 2,
       "version_minor": 0
      },
      "text/plain": [
       "Map:   0%|          | 0/100 [00:00<?, ? examples/s]"
      ]
     },
     "metadata": {},
     "output_type": "display_data"
    },
    {
     "data": {
      "application/vnd.jupyter.widget-view+json": {
       "model_id": "3752ebb499814f8e997436f2f3802807",
       "version_major": 2,
       "version_minor": 0
      },
      "text/plain": [
       "Map:   0%|          | 0/100 [00:00<?, ? examples/s]"
      ]
     },
     "metadata": {},
     "output_type": "display_data"
    },
    {
     "data": {
      "application/vnd.jupyter.widget-view+json": {
       "model_id": "4a5b35ff7534453d9c8c15cc378823ff",
       "version_major": 2,
       "version_minor": 0
      },
      "text/plain": [
       "Map:   0%|          | 0/100 [00:00<?, ? examples/s]"
      ]
     },
     "metadata": {},
     "output_type": "display_data"
    },
    {
     "data": {
      "application/vnd.jupyter.widget-view+json": {
       "model_id": "57fc7b65e53d41ab900af6c0cb60099e",
       "version_major": 2,
       "version_minor": 0
      },
      "text/plain": [
       "Map:   0%|          | 0/100 [00:00<?, ? examples/s]"
      ]
     },
     "metadata": {},
     "output_type": "display_data"
    },
    {
     "data": {
      "application/vnd.jupyter.widget-view+json": {
       "model_id": "3bface6e523344db8e6bc3209ce47451",
       "version_major": 2,
       "version_minor": 0
      },
      "text/plain": [
       "Map:   0%|          | 0/100 [00:00<?, ? examples/s]"
      ]
     },
     "metadata": {},
     "output_type": "display_data"
    },
    {
     "data": {
      "application/vnd.jupyter.widget-view+json": {
       "model_id": "96c79449d4a34c8faab9a4a68b9ad494",
       "version_major": 2,
       "version_minor": 0
      },
      "text/plain": [
       "Map:   0%|          | 0/100 [00:00<?, ? examples/s]"
      ]
     },
     "metadata": {},
     "output_type": "display_data"
    },
    {
     "data": {
      "application/vnd.jupyter.widget-view+json": {
       "model_id": "e000c2048c604961ab06e4feb50018a1",
       "version_major": 2,
       "version_minor": 0
      },
      "text/plain": [
       "Map:   0%|          | 0/100 [00:00<?, ? examples/s]"
      ]
     },
     "metadata": {},
     "output_type": "display_data"
    },
    {
     "data": {
      "application/vnd.jupyter.widget-view+json": {
       "model_id": "7b303cdd769a42ffb9ff5e1da623df5c",
       "version_major": 2,
       "version_minor": 0
      },
      "text/plain": [
       "Map:   0%|          | 0/100 [00:00<?, ? examples/s]"
      ]
     },
     "metadata": {},
     "output_type": "display_data"
    },
    {
     "data": {
      "application/vnd.jupyter.widget-view+json": {
       "model_id": "15ae0bd5f8274449b4f02d0ab8b0327a",
       "version_major": 2,
       "version_minor": 0
      },
      "text/plain": [
       "Map:   0%|          | 0/100 [00:00<?, ? examples/s]"
      ]
     },
     "metadata": {},
     "output_type": "display_data"
    },
    {
     "data": {
      "application/vnd.jupyter.widget-view+json": {
       "model_id": "ac71bb73d00049fa94d34623f4ce5304",
       "version_major": 2,
       "version_minor": 0
      },
      "text/plain": [
       "Map:   0%|          | 0/100 [00:00<?, ? examples/s]"
      ]
     },
     "metadata": {},
     "output_type": "display_data"
    },
    {
     "data": {
      "application/vnd.jupyter.widget-view+json": {
       "model_id": "dc676443b58149b8a5dd4d2768261347",
       "version_major": 2,
       "version_minor": 0
      },
      "text/plain": [
       "Map:   0%|          | 0/100 [00:00<?, ? examples/s]"
      ]
     },
     "metadata": {},
     "output_type": "display_data"
    },
    {
     "data": {
      "application/vnd.jupyter.widget-view+json": {
       "model_id": "7e38dfcd83c449b0b7507adeeb2ca610",
       "version_major": 2,
       "version_minor": 0
      },
      "text/plain": [
       "Map:   0%|          | 0/100 [00:00<?, ? examples/s]"
      ]
     },
     "metadata": {},
     "output_type": "display_data"
    },
    {
     "data": {
      "application/vnd.jupyter.widget-view+json": {
       "model_id": "a5684e72929647978f6bf932d8d64a47",
       "version_major": 2,
       "version_minor": 0
      },
      "text/plain": [
       "Map:   0%|          | 0/100 [00:00<?, ? examples/s]"
      ]
     },
     "metadata": {},
     "output_type": "display_data"
    },
    {
     "data": {
      "application/vnd.jupyter.widget-view+json": {
       "model_id": "c98ccbed19ab4384bbbe6f35c473368d",
       "version_major": 2,
       "version_minor": 0
      },
      "text/plain": [
       "Map:   0%|          | 0/100 [00:00<?, ? examples/s]"
      ]
     },
     "metadata": {},
     "output_type": "display_data"
    },
    {
     "data": {
      "application/vnd.jupyter.widget-view+json": {
       "model_id": "12fe2e7e9f964b6793501c5086db3d70",
       "version_major": 2,
       "version_minor": 0
      },
      "text/plain": [
       "Map:   0%|          | 0/100 [00:00<?, ? examples/s]"
      ]
     },
     "metadata": {},
     "output_type": "display_data"
    },
    {
     "data": {
      "application/vnd.jupyter.widget-view+json": {
       "model_id": "fe8f6ac4cd5842b3bb86f967f8255f47",
       "version_major": 2,
       "version_minor": 0
      },
      "text/plain": [
       "Map:   0%|          | 0/100 [00:00<?, ? examples/s]"
      ]
     },
     "metadata": {},
     "output_type": "display_data"
    },
    {
     "data": {
      "application/vnd.jupyter.widget-view+json": {
       "model_id": "2ab99c54ee1d4c2792f95f69afb0eeaf",
       "version_major": 2,
       "version_minor": 0
      },
      "text/plain": [
       "Map:   0%|          | 0/100 [00:00<?, ? examples/s]"
      ]
     },
     "metadata": {},
     "output_type": "display_data"
    },
    {
     "data": {
      "application/vnd.jupyter.widget-view+json": {
       "model_id": "1ae79953a92a48fcb373850ba6d4f699",
       "version_major": 2,
       "version_minor": 0
      },
      "text/plain": [
       "Map:   0%|          | 0/100 [00:00<?, ? examples/s]"
      ]
     },
     "metadata": {},
     "output_type": "display_data"
    },
    {
     "data": {
      "application/vnd.jupyter.widget-view+json": {
       "model_id": "c02d9e541f794b62b32a23d5d942dfd6",
       "version_major": 2,
       "version_minor": 0
      },
      "text/plain": [
       "Map:   0%|          | 0/100 [00:00<?, ? examples/s]"
      ]
     },
     "metadata": {},
     "output_type": "display_data"
    },
    {
     "data": {
      "application/vnd.jupyter.widget-view+json": {
       "model_id": "a0485ba4429e43179ab2e0a7d29db0d2",
       "version_major": 2,
       "version_minor": 0
      },
      "text/plain": [
       "Map:   0%|          | 0/100 [00:00<?, ? examples/s]"
      ]
     },
     "metadata": {},
     "output_type": "display_data"
    },
    {
     "data": {
      "application/vnd.jupyter.widget-view+json": {
       "model_id": "12a4b7c1de1a4591b0882ea16629059b",
       "version_major": 2,
       "version_minor": 0
      },
      "text/plain": [
       "Map:   0%|          | 0/100 [00:00<?, ? examples/s]"
      ]
     },
     "metadata": {},
     "output_type": "display_data"
    },
    {
     "data": {
      "application/vnd.jupyter.widget-view+json": {
       "model_id": "6f15d74595fb400284a21021b3ca8862",
       "version_major": 2,
       "version_minor": 0
      },
      "text/plain": [
       "Map:   0%|          | 0/100 [00:00<?, ? examples/s]"
      ]
     },
     "metadata": {},
     "output_type": "display_data"
    },
    {
     "data": {
      "application/vnd.jupyter.widget-view+json": {
       "model_id": "f21af27343ce48a88d42daf16e8dbbb6",
       "version_major": 2,
       "version_minor": 0
      },
      "text/plain": [
       "Map:   0%|          | 0/100 [00:00<?, ? examples/s]"
      ]
     },
     "metadata": {},
     "output_type": "display_data"
    },
    {
     "data": {
      "application/vnd.jupyter.widget-view+json": {
       "model_id": "30d6cc050abc4c11a5beb4aac8005561",
       "version_major": 2,
       "version_minor": 0
      },
      "text/plain": [
       "Map:   0%|          | 0/100 [00:00<?, ? examples/s]"
      ]
     },
     "metadata": {},
     "output_type": "display_data"
    },
    {
     "data": {
      "application/vnd.jupyter.widget-view+json": {
       "model_id": "6211f0cb9fcc4e5daeccd44165a188b6",
       "version_major": 2,
       "version_minor": 0
      },
      "text/plain": [
       "Map:   0%|          | 0/100 [00:00<?, ? examples/s]"
      ]
     },
     "metadata": {},
     "output_type": "display_data"
    },
    {
     "data": {
      "application/vnd.jupyter.widget-view+json": {
       "model_id": "962982532aea4e95b2456e10a9044b78",
       "version_major": 2,
       "version_minor": 0
      },
      "text/plain": [
       "Map:   0%|          | 0/100 [00:00<?, ? examples/s]"
      ]
     },
     "metadata": {},
     "output_type": "display_data"
    },
    {
     "data": {
      "application/vnd.jupyter.widget-view+json": {
       "model_id": "54515477b3c94bd78d8aad4195b02c86",
       "version_major": 2,
       "version_minor": 0
      },
      "text/plain": [
       "Map:   0%|          | 0/100 [00:00<?, ? examples/s]"
      ]
     },
     "metadata": {},
     "output_type": "display_data"
    },
    {
     "data": {
      "application/vnd.jupyter.widget-view+json": {
       "model_id": "0615a33b8b0f42cd81a3f00522ce04aa",
       "version_major": 2,
       "version_minor": 0
      },
      "text/plain": [
       "Map:   0%|          | 0/100 [00:00<?, ? examples/s]"
      ]
     },
     "metadata": {},
     "output_type": "display_data"
    },
    {
     "data": {
      "application/vnd.jupyter.widget-view+json": {
       "model_id": "f4a92ffabec54dde950c2e93eea301d4",
       "version_major": 2,
       "version_minor": 0
      },
      "text/plain": [
       "Map:   0%|          | 0/100 [00:00<?, ? examples/s]"
      ]
     },
     "metadata": {},
     "output_type": "display_data"
    },
    {
     "data": {
      "application/vnd.jupyter.widget-view+json": {
       "model_id": "13fac414edb54ac9b73bbb3599aa027c",
       "version_major": 2,
       "version_minor": 0
      },
      "text/plain": [
       "Map:   0%|          | 0/100 [00:00<?, ? examples/s]"
      ]
     },
     "metadata": {},
     "output_type": "display_data"
    },
    {
     "data": {
      "application/vnd.jupyter.widget-view+json": {
       "model_id": "b9c8743634c045388824ff875bb6cece",
       "version_major": 2,
       "version_minor": 0
      },
      "text/plain": [
       "Map:   0%|          | 0/100 [00:00<?, ? examples/s]"
      ]
     },
     "metadata": {},
     "output_type": "display_data"
    },
    {
     "data": {
      "application/vnd.jupyter.widget-view+json": {
       "model_id": "8e0acd755eb1450688af89b296f5b598",
       "version_major": 2,
       "version_minor": 0
      },
      "text/plain": [
       "Map:   0%|          | 0/100 [00:00<?, ? examples/s]"
      ]
     },
     "metadata": {},
     "output_type": "display_data"
    },
    {
     "data": {
      "application/vnd.jupyter.widget-view+json": {
       "model_id": "982ab1c5da474337b099640eb1e106e5",
       "version_major": 2,
       "version_minor": 0
      },
      "text/plain": [
       "Map:   0%|          | 0/100 [00:00<?, ? examples/s]"
      ]
     },
     "metadata": {},
     "output_type": "display_data"
    },
    {
     "data": {
      "application/vnd.jupyter.widget-view+json": {
       "model_id": "d4116df0d4db4e5bb5866da67feecb45",
       "version_major": 2,
       "version_minor": 0
      },
      "text/plain": [
       "Map:   0%|          | 0/100 [00:00<?, ? examples/s]"
      ]
     },
     "metadata": {},
     "output_type": "display_data"
    },
    {
     "data": {
      "application/vnd.jupyter.widget-view+json": {
       "model_id": "1d759bdfc93c4debb0ec701bfab45113",
       "version_major": 2,
       "version_minor": 0
      },
      "text/plain": [
       "Map:   0%|          | 0/100 [00:00<?, ? examples/s]"
      ]
     },
     "metadata": {},
     "output_type": "display_data"
    },
    {
     "data": {
      "application/vnd.jupyter.widget-view+json": {
       "model_id": "35e21c17cc4a4f9d831d75ac0b2c3e65",
       "version_major": 2,
       "version_minor": 0
      },
      "text/plain": [
       "Map:   0%|          | 0/100 [00:00<?, ? examples/s]"
      ]
     },
     "metadata": {},
     "output_type": "display_data"
    },
    {
     "data": {
      "application/vnd.jupyter.widget-view+json": {
       "model_id": "a8838503b7e048129eb3c57d6f75b355",
       "version_major": 2,
       "version_minor": 0
      },
      "text/plain": [
       "Map:   0%|          | 0/100 [00:00<?, ? examples/s]"
      ]
     },
     "metadata": {},
     "output_type": "display_data"
    },
    {
     "data": {
      "application/vnd.jupyter.widget-view+json": {
       "model_id": "1d9ee4c43b2e423b909c8fde0ad5ebcb",
       "version_major": 2,
       "version_minor": 0
      },
      "text/plain": [
       "Map:   0%|          | 0/100 [00:00<?, ? examples/s]"
      ]
     },
     "metadata": {},
     "output_type": "display_data"
    },
    {
     "data": {
      "application/vnd.jupyter.widget-view+json": {
       "model_id": "290a2307b9134fe3b90fb6772dc66d96",
       "version_major": 2,
       "version_minor": 0
      },
      "text/plain": [
       "Map:   0%|          | 0/100 [00:00<?, ? examples/s]"
      ]
     },
     "metadata": {},
     "output_type": "display_data"
    },
    {
     "data": {
      "application/vnd.jupyter.widget-view+json": {
       "model_id": "6214d49123774797b421ae5fed4810f8",
       "version_major": 2,
       "version_minor": 0
      },
      "text/plain": [
       "Map:   0%|          | 0/100 [00:00<?, ? examples/s]"
      ]
     },
     "metadata": {},
     "output_type": "display_data"
    },
    {
     "data": {
      "application/vnd.jupyter.widget-view+json": {
       "model_id": "9c5cd2da791c4d5283323d54edc5641b",
       "version_major": 2,
       "version_minor": 0
      },
      "text/plain": [
       "Map:   0%|          | 0/100 [00:00<?, ? examples/s]"
      ]
     },
     "metadata": {},
     "output_type": "display_data"
    },
    {
     "data": {
      "application/vnd.jupyter.widget-view+json": {
       "model_id": "4fc2ff86e642454da25f17fbaf98a16d",
       "version_major": 2,
       "version_minor": 0
      },
      "text/plain": [
       "Map:   0%|          | 0/100 [00:00<?, ? examples/s]"
      ]
     },
     "metadata": {},
     "output_type": "display_data"
    },
    {
     "data": {
      "application/vnd.jupyter.widget-view+json": {
       "model_id": "7d89abd3026f4f7089053e14c1402f9c",
       "version_major": 2,
       "version_minor": 0
      },
      "text/plain": [
       "Map:   0%|          | 0/100 [00:00<?, ? examples/s]"
      ]
     },
     "metadata": {},
     "output_type": "display_data"
    },
    {
     "name": "stderr",
     "output_type": "stream",
     "text": [
      "100%|██████████| 100/100 [00:00<00:00, 1018.83it/s]\n",
      "100%|██████████| 100/100 [00:00<00:00, 1409.80it/s]\n",
      "100%|██████████| 100/100 [00:00<00:00, 1304.38it/s]"
     ]
    },
    {
     "name": "stdout",
     "output_type": "stream",
     "text": [
      "<class 'pandas.core.frame.DataFrame'>\n",
      "RangeIndex: 853 entries, 0 to 852\n",
      "Data columns (total 2 columns):\n",
      " #   Column  Non-Null Count  Dtype \n",
      "---  ------  --------------  ----- \n",
      " 0   0       853 non-null    object\n",
      " 1   1       853 non-null    object\n",
      "dtypes: object(2)\n",
      "memory usage: 13.5+ KB\n",
      "                                                   0  \\\n",
      "0  role: Line Cook \\n description: - Prepped food...   \n",
      "1  role: Line Cook \\n description: - Prepared foo...   \n",
      "2  role: Line Chef \\n description: - Prepared foo...   \n",
      "3  role: Line Cook \\n description: - Prepped food...   \n",
      "4  role: Line Cook \\n description: - Prepared foo...   \n",
      "\n",
      "                                                   1  \n",
      "0  esco role: cook \\n description: Cooks are culi...  \n",
      "1  esco role: head chef \\n description: Head chef...  \n",
      "2  esco role: head chef \\n description: Head chef...  \n",
      "3  esco role: head chef \\n description: Head chef...  \n",
      "4  esco role: head chef \\n description: Head chef...  \n"
     ]
    },
    {
     "name": "stderr",
     "output_type": "stream",
     "text": [
      "\n"
     ]
    }
   ],
   "source": [
    "from data import Data\n",
    "from utils import SEP_TOKEN\n",
    "import re\n",
    "import pandas as pd\n",
    "from typing import List, Tuple\n",
    "\n",
    "# import DECORTE\n",
    "# The DATA_TYPE is case-sensitive, so it should be 'decorte'\n",
    "decorte_data = Data('decorte', max_rows=100)\n",
    "train_decorte, val_decorte, test_decorte = decorte_data.get_data('embedding_finetuning')\n",
    "df_decorte_train = pd.DataFrame(train_decorte)\n",
    "df_decorte_train.info()\n",
    "print(df_decorte_train.head())\n"
   ]
  },
  {
   "cell_type": "code",
   "execution_count": 18,
   "id": "e6d15800",
   "metadata": {},
   "outputs": [
    {
     "ename": "TypeError",
     "evalue": "unsupported operand type(s) for +: 'NoneType' and 'NoneType'",
     "output_type": "error",
     "traceback": [
      "\u001b[31m---------------------------------------------------------------------------\u001b[39m",
      "\u001b[31mTypeError\u001b[39m                                 Traceback (most recent call last)",
      "\u001b[36mCell\u001b[39m\u001b[36m \u001b[39m\u001b[32mIn[18]\u001b[39m\u001b[32m, line 9\u001b[39m\n\u001b[32m      5\u001b[39m \u001b[38;5;28;01mfrom\u001b[39;00m\u001b[38;5;250m \u001b[39m\u001b[34;01mtyping\u001b[39;00m\u001b[38;5;250m \u001b[39m\u001b[38;5;28;01mimport\u001b[39;00m List, Tuple\n\u001b[32m      7\u001b[39m \u001b[38;5;66;03m# import DECORTE\u001b[39;00m\n\u001b[32m      8\u001b[39m \u001b[38;5;66;03m# The DATA_TYPE is case-sensitive, so it should be 'decorte'\u001b[39;00m\n\u001b[32m----> \u001b[39m\u001b[32m9\u001b[39m kw_data = \u001b[43mData\u001b[49m\u001b[43m(\u001b[49m\u001b[33;43m'\u001b[39;49m\u001b[33;43mkarrierewege_plus\u001b[39;49m\u001b[33;43m'\u001b[39;49m\u001b[43m,\u001b[49m\u001b[43m \u001b[49m\u001b[43mmax_rows\u001b[49m\u001b[43m=\u001b[49m\u001b[32;43m100\u001b[39;49m\u001b[43m)\u001b[49m\n\u001b[32m     10\u001b[39m train_kw, val_kw, test_kw = kw_data.get_data(\u001b[33m'\u001b[39m\u001b[33membedding_finetuning\u001b[39m\u001b[33m'\u001b[39m)\n\u001b[32m     11\u001b[39m df_kw_train = pd.DataFrame(train_kw)\n",
      "\u001b[36mFile \u001b[39m\u001b[32m~/thesis/skills4cpp/src/data.py:45\u001b[39m, in \u001b[36mData.__init__\u001b[39m\u001b[34m(self, DATA_TYPE, DOC_1_PROMPT, DOC_2_PROMPT, ONLY_TITLES, max_rows)\u001b[39m\n\u001b[32m     43\u001b[39m \u001b[38;5;28mself\u001b[39m.test_pairs = \u001b[38;5;28;01mNone\u001b[39;00m\n\u001b[32m     44\u001b[39m \u001b[38;5;28mself\u001b[39m.labels = \u001b[38;5;28;01mNone\u001b[39;00m\n\u001b[32m---> \u001b[39m\u001b[32m45\u001b[39m \u001b[38;5;28;43mself\u001b[39;49m\u001b[43m.\u001b[49m\u001b[43m__load_data\u001b[49m\u001b[43m(\u001b[49m\u001b[43m)\u001b[49m\n",
      "\u001b[36mFile \u001b[39m\u001b[32m~/thesis/skills4cpp/src/data.py:80\u001b[39m, in \u001b[36mData.__load_data\u001b[39m\u001b[34m(self)\u001b[39m\n\u001b[32m     75\u001b[39m     \u001b[38;5;28mself\u001b[39m.train_pairs, \u001b[38;5;28mself\u001b[39m.val_pairs, \u001b[38;5;28mself\u001b[39m.test_pairs = load_prepare_karrierewege(\n\u001b[32m     76\u001b[39m         consider_all_subspans_of_len_at_least_2=\u001b[38;5;28;01mTrue\u001b[39;00m, minus_last=\u001b[38;5;28;01mFalse\u001b[39;00m, language=\u001b[33m'\u001b[39m\u001b[33men_free_cp\u001b[39m\u001b[33m'\u001b[39m, max_rows=\u001b[38;5;28mself\u001b[39m.max_rows\n\u001b[32m     77\u001b[39m     )\n\u001b[32m     79\u001b[39m \u001b[38;5;66;03m# Extract unique labels from the dataset\u001b[39;00m\n\u001b[32m---> \u001b[39m\u001b[32m80\u001b[39m \u001b[38;5;28mself\u001b[39m.labels = \u001b[38;5;28mlist\u001b[39m(\u001b[38;5;28mset\u001b[39m([pair[\u001b[32m1\u001b[39m] \u001b[38;5;28;01mfor\u001b[39;00m pair \u001b[38;5;129;01min\u001b[39;00m \u001b[38;5;28;43mself\u001b[39;49m\u001b[43m.\u001b[49m\u001b[43mtrain_pairs\u001b[49m\u001b[43m \u001b[49m\u001b[43m+\u001b[49m\u001b[43m \u001b[49m\u001b[38;5;28;43mself\u001b[39;49m\u001b[43m.\u001b[49m\u001b[43mval_pairs\u001b[49m + \u001b[38;5;28mself\u001b[39m.test_pairs]))\n",
      "\u001b[31mTypeError\u001b[39m: unsupported operand type(s) for +: 'NoneType' and 'NoneType'"
     ]
    }
   ],
   "source": [
    "from data import Data\n",
    "from utils import SEP_TOKEN\n",
    "import re\n",
    "import pandas as pd\n",
    "from typing import List, Tuple\n",
    "\n",
    "# import DECORTE\n",
    "# The DATA_TYPE is case-sensitive, so it should be 'decorte'\n",
    "kw_data = Data('karrierewege_plus', max_rows=100)\n",
    "train_kw, val_kw, test_kw = kw_data.get_data('embedding_finetuning')\n",
    "df_kw_train = pd.DataFrame(train_kw)\n",
    "df_kw_train.info()\n",
    "print(df_kw_train.head())\n"
   ]
  },
  {
   "cell_type": "code",
   "execution_count": 5,
   "id": "0a767455",
   "metadata": {},
   "outputs": [],
   "source": [
    "df_decorte_train.to_clipboard()"
   ]
  },
  {
   "cell_type": "code",
   "execution_count": 17,
   "id": "35d22425",
   "metadata": {},
   "outputs": [
    {
     "name": "stdout",
     "output_type": "stream",
     "text": [
      "/dss/dsshome1/02/ra95kix2/thesis/skills4cpp/notebooks\n",
      "<class 'pandas.core.frame.DataFrame'>\n",
      "RangeIndex: 28880 entries, 0 to 28879\n",
      "Data columns (total 4 columns):\n",
      " #   Column       Non-Null Count  Dtype \n",
      "---  ------       --------------  ----- \n",
      " 0   family_id    28880 non-null  object\n",
      " 1   id           28880 non-null  object\n",
      " 2   jobtitle_1   28880 non-null  object\n",
      " 3   job_title_2  28880 non-null  object\n",
      "dtypes: object(4)\n",
      "memory usage: 902.6+ KB\n"
     ]
    }
   ],
   "source": [
    "import pandas as pd\n",
    "import os\n",
    "\n",
    "# print current directory\n",
    "print(os.getcwd())\n",
    "\n",
    "# read data/talent_clef/taskA/training/taskA_training_en.tsv\n",
    "df_talent_clef = pd.read_csv(\n",
    "    r'/dss/dsshome1/02/ra95kix2/thesis/skills4cpp/data/talent_clef/TaskA/training/english/taskA_training_en.tsv',\n",
    "    sep='\\t',\n",
    "    header=None,\n",
    "    names=['family_id', 'id', 'jobtitle_1', 'job_title_2']\n",
    ")\n",
    "df_talent_clef.head()\n",
    "df_talent_clef.info()"
   ]
  },
  {
   "cell_type": "code",
   "execution_count": 10,
   "id": "4048df52",
   "metadata": {},
   "outputs": [
    {
     "data": {
      "text/html": [
       "<div>\n",
       "<style scoped>\n",
       "    .dataframe tbody tr th:only-of-type {\n",
       "        vertical-align: middle;\n",
       "    }\n",
       "\n",
       "    .dataframe tbody tr th {\n",
       "        vertical-align: top;\n",
       "    }\n",
       "\n",
       "    .dataframe thead th {\n",
       "        text-align: right;\n",
       "    }\n",
       "</style>\n",
       "<table border=\"1\" class=\"dataframe\">\n",
       "  <thead>\n",
       "    <tr style=\"text-align: right;\">\n",
       "      <th></th>\n",
       "      <th>family_id</th>\n",
       "      <th>id</th>\n",
       "      <th>jobtitle_1</th>\n",
       "      <th>job_title_2</th>\n",
       "    </tr>\n",
       "  </thead>\n",
       "  <tbody>\n",
       "    <tr>\n",
       "      <th>0</th>\n",
       "      <td>http://data.europa.eu/esco/isco/C0110</td>\n",
       "      <td>http://data.europa.eu/esco/occupation/f2cc5978...</td>\n",
       "      <td>air commodore</td>\n",
       "      <td>flight lieutenant</td>\n",
       "    </tr>\n",
       "    <tr>\n",
       "      <th>1</th>\n",
       "      <td>http://data.europa.eu/esco/isco/C0110</td>\n",
       "      <td>http://data.europa.eu/esco/occupation/f2cc5978...</td>\n",
       "      <td>command and control officer</td>\n",
       "      <td>flight officer</td>\n",
       "    </tr>\n",
       "    <tr>\n",
       "      <th>2</th>\n",
       "      <td>http://data.europa.eu/esco/isco/C0110</td>\n",
       "      <td>http://data.europa.eu/esco/occupation/f2cc5978...</td>\n",
       "      <td>air commodore</td>\n",
       "      <td>command and control officer</td>\n",
       "    </tr>\n",
       "    <tr>\n",
       "      <th>3</th>\n",
       "      <td>http://data.europa.eu/esco/isco/C0110</td>\n",
       "      <td>http://data.europa.eu/esco/occupation/f2cc5978...</td>\n",
       "      <td>pilot officer</td>\n",
       "      <td>squadron leader</td>\n",
       "    </tr>\n",
       "    <tr>\n",
       "      <th>4</th>\n",
       "      <td>http://data.europa.eu/esco/isco/C0110</td>\n",
       "      <td>http://data.europa.eu/esco/occupation/f2cc5978...</td>\n",
       "      <td>royal airforce officer</td>\n",
       "      <td>command and control officer</td>\n",
       "    </tr>\n",
       "  </tbody>\n",
       "</table>\n",
       "</div>"
      ],
      "text/plain": [
       "                               family_id  \\\n",
       "0  http://data.europa.eu/esco/isco/C0110   \n",
       "1  http://data.europa.eu/esco/isco/C0110   \n",
       "2  http://data.europa.eu/esco/isco/C0110   \n",
       "3  http://data.europa.eu/esco/isco/C0110   \n",
       "4  http://data.europa.eu/esco/isco/C0110   \n",
       "\n",
       "                                                  id  \\\n",
       "0  http://data.europa.eu/esco/occupation/f2cc5978...   \n",
       "1  http://data.europa.eu/esco/occupation/f2cc5978...   \n",
       "2  http://data.europa.eu/esco/occupation/f2cc5978...   \n",
       "3  http://data.europa.eu/esco/occupation/f2cc5978...   \n",
       "4  http://data.europa.eu/esco/occupation/f2cc5978...   \n",
       "\n",
       "                    jobtitle_1                  job_title_2  \n",
       "0                air commodore            flight lieutenant  \n",
       "1  command and control officer               flight officer  \n",
       "2                air commodore  command and control officer  \n",
       "3                pilot officer              squadron leader  \n",
       "4       royal airforce officer  command and control officer  "
      ]
     },
     "execution_count": 10,
     "metadata": {},
     "output_type": "execute_result"
    }
   ],
   "source": [
    "df_talent_clef.head()"
   ]
  },
  {
   "cell_type": "code",
   "execution_count": 11,
   "id": "f4adbfb6",
   "metadata": {},
   "outputs": [
    {
     "data": {
      "text/html": [
       "<div>\n",
       "<style scoped>\n",
       "    .dataframe tbody tr th:only-of-type {\n",
       "        vertical-align: middle;\n",
       "    }\n",
       "\n",
       "    .dataframe tbody tr th {\n",
       "        vertical-align: top;\n",
       "    }\n",
       "\n",
       "    .dataframe thead th {\n",
       "        text-align: right;\n",
       "    }\n",
       "</style>\n",
       "<table border=\"1\" class=\"dataframe\">\n",
       "  <thead>\n",
       "    <tr style=\"text-align: right;\">\n",
       "      <th></th>\n",
       "      <th>conceptType</th>\n",
       "      <th>conceptUri</th>\n",
       "      <th>iscoGroup</th>\n",
       "      <th>preferredLabel</th>\n",
       "      <th>altLabels</th>\n",
       "      <th>hiddenLabels</th>\n",
       "      <th>status</th>\n",
       "      <th>modifiedDate</th>\n",
       "      <th>regulatedProfessionNote</th>\n",
       "      <th>scopeNote</th>\n",
       "      <th>definition</th>\n",
       "      <th>inScheme</th>\n",
       "      <th>description</th>\n",
       "      <th>code</th>\n",
       "    </tr>\n",
       "  </thead>\n",
       "  <tbody>\n",
       "    <tr>\n",
       "      <th>0</th>\n",
       "      <td>Occupation</td>\n",
       "      <td>http://data.europa.eu/esco/occupation/00030d09...</td>\n",
       "      <td>2654</td>\n",
       "      <td>technical director</td>\n",
       "      <td>technical and operations director\\nhead of tec...</td>\n",
       "      <td>NaN</td>\n",
       "      <td>released</td>\n",
       "      <td>2024-01-25T11:28:50.295Z</td>\n",
       "      <td>http://data.europa.eu/esco/regulated-professio...</td>\n",
       "      <td>NaN</td>\n",
       "      <td>NaN</td>\n",
       "      <td>http://data.europa.eu/esco/concept-scheme/occu...</td>\n",
       "      <td>Technical directors realise the artistic visio...</td>\n",
       "      <td>2654.1.7</td>\n",
       "    </tr>\n",
       "    <tr>\n",
       "      <th>1</th>\n",
       "      <td>Occupation</td>\n",
       "      <td>http://data.europa.eu/esco/occupation/000e93a3...</td>\n",
       "      <td>8121</td>\n",
       "      <td>metal drawing machine operator</td>\n",
       "      <td>metal drawing machine technician\\nmetal drawin...</td>\n",
       "      <td>NaN</td>\n",
       "      <td>released</td>\n",
       "      <td>2024-01-23T10:09:32.099Z</td>\n",
       "      <td>http://data.europa.eu/esco/regulated-professio...</td>\n",
       "      <td>NaN</td>\n",
       "      <td>NaN</td>\n",
       "      <td>http://data.europa.eu/esco/concept-scheme/memb...</td>\n",
       "      <td>Metal drawing machine operators set up and ope...</td>\n",
       "      <td>8121.4</td>\n",
       "    </tr>\n",
       "    <tr>\n",
       "      <th>2</th>\n",
       "      <td>Occupation</td>\n",
       "      <td>http://data.europa.eu/esco/occupation/0019b951...</td>\n",
       "      <td>7543</td>\n",
       "      <td>precision device inspector</td>\n",
       "      <td>inspector of precision instruments\\nprecision ...</td>\n",
       "      <td>NaN</td>\n",
       "      <td>released</td>\n",
       "      <td>2024-01-25T15:00:12.188Z</td>\n",
       "      <td>http://data.europa.eu/esco/regulated-professio...</td>\n",
       "      <td>NaN</td>\n",
       "      <td>NaN</td>\n",
       "      <td>http://data.europa.eu/esco/concept-scheme/occu...</td>\n",
       "      <td>Precision device inspectors make sure precisio...</td>\n",
       "      <td>7543.10.3</td>\n",
       "    </tr>\n",
       "    <tr>\n",
       "      <th>3</th>\n",
       "      <td>Occupation</td>\n",
       "      <td>http://data.europa.eu/esco/occupation/0022f466...</td>\n",
       "      <td>3155</td>\n",
       "      <td>air traffic safety technician</td>\n",
       "      <td>air traffic safety electronics hardware specia...</td>\n",
       "      <td>NaN</td>\n",
       "      <td>released</td>\n",
       "      <td>2024-01-29T16:01:13.998Z</td>\n",
       "      <td>http://data.europa.eu/esco/regulated-professio...</td>\n",
       "      <td>NaN</td>\n",
       "      <td>NaN</td>\n",
       "      <td>http://data.europa.eu/esco/concept-scheme/memb...</td>\n",
       "      <td>Air traffic safety technicians provide technic...</td>\n",
       "      <td>3155.1</td>\n",
       "    </tr>\n",
       "    <tr>\n",
       "      <th>4</th>\n",
       "      <td>Occupation</td>\n",
       "      <td>http://data.europa.eu/esco/occupation/002da35b...</td>\n",
       "      <td>2431</td>\n",
       "      <td>hospitality revenue manager</td>\n",
       "      <td>hospitality revenues manager\\nyield manager\\nh...</td>\n",
       "      <td>NaN</td>\n",
       "      <td>released</td>\n",
       "      <td>2024-01-11T10:28:45.871Z</td>\n",
       "      <td>http://data.europa.eu/esco/regulated-professio...</td>\n",
       "      <td>NaN</td>\n",
       "      <td>NaN</td>\n",
       "      <td>http://data.europa.eu/esco/concept-scheme/memb...</td>\n",
       "      <td>Hospitality revenue managers maximise revenue ...</td>\n",
       "      <td>2431.9</td>\n",
       "    </tr>\n",
       "  </tbody>\n",
       "</table>\n",
       "</div>"
      ],
      "text/plain": [
       "  conceptType                                         conceptUri  iscoGroup  \\\n",
       "0  Occupation  http://data.europa.eu/esco/occupation/00030d09...       2654   \n",
       "1  Occupation  http://data.europa.eu/esco/occupation/000e93a3...       8121   \n",
       "2  Occupation  http://data.europa.eu/esco/occupation/0019b951...       7543   \n",
       "3  Occupation  http://data.europa.eu/esco/occupation/0022f466...       3155   \n",
       "4  Occupation  http://data.europa.eu/esco/occupation/002da35b...       2431   \n",
       "\n",
       "                   preferredLabel  \\\n",
       "0              technical director   \n",
       "1  metal drawing machine operator   \n",
       "2      precision device inspector   \n",
       "3   air traffic safety technician   \n",
       "4     hospitality revenue manager   \n",
       "\n",
       "                                           altLabels hiddenLabels    status  \\\n",
       "0  technical and operations director\\nhead of tec...          NaN  released   \n",
       "1  metal drawing machine technician\\nmetal drawin...          NaN  released   \n",
       "2  inspector of precision instruments\\nprecision ...          NaN  released   \n",
       "3  air traffic safety electronics hardware specia...          NaN  released   \n",
       "4  hospitality revenues manager\\nyield manager\\nh...          NaN  released   \n",
       "\n",
       "               modifiedDate  \\\n",
       "0  2024-01-25T11:28:50.295Z   \n",
       "1  2024-01-23T10:09:32.099Z   \n",
       "2  2024-01-25T15:00:12.188Z   \n",
       "3  2024-01-29T16:01:13.998Z   \n",
       "4  2024-01-11T10:28:45.871Z   \n",
       "\n",
       "                             regulatedProfessionNote scopeNote definition  \\\n",
       "0  http://data.europa.eu/esco/regulated-professio...       NaN        NaN   \n",
       "1  http://data.europa.eu/esco/regulated-professio...       NaN        NaN   \n",
       "2  http://data.europa.eu/esco/regulated-professio...       NaN        NaN   \n",
       "3  http://data.europa.eu/esco/regulated-professio...       NaN        NaN   \n",
       "4  http://data.europa.eu/esco/regulated-professio...       NaN        NaN   \n",
       "\n",
       "                                            inScheme  \\\n",
       "0  http://data.europa.eu/esco/concept-scheme/occu...   \n",
       "1  http://data.europa.eu/esco/concept-scheme/memb...   \n",
       "2  http://data.europa.eu/esco/concept-scheme/occu...   \n",
       "3  http://data.europa.eu/esco/concept-scheme/memb...   \n",
       "4  http://data.europa.eu/esco/concept-scheme/memb...   \n",
       "\n",
       "                                         description       code  \n",
       "0  Technical directors realise the artistic visio...   2654.1.7  \n",
       "1  Metal drawing machine operators set up and ope...     8121.4  \n",
       "2  Precision device inspectors make sure precisio...  7543.10.3  \n",
       "3  Air traffic safety technicians provide technic...     3155.1  \n",
       "4  Hospitality revenue managers maximise revenue ...     2431.9  "
      ]
     },
     "execution_count": 11,
     "metadata": {},
     "output_type": "execute_result"
    }
   ],
   "source": [
    "df_esco = pd.read_csv(r'/dss/dsshome1/02/ra95kix2/thesis/skills4cpp/data/occupations_en.csv')\n",
    "df_esco.head()"
   ]
  },
  {
   "cell_type": "code",
   "execution_count": 15,
   "id": "f439304a",
   "metadata": {},
   "outputs": [
    {
     "data": {
      "text/html": [
       "<div>\n",
       "<style scoped>\n",
       "    .dataframe tbody tr th:only-of-type {\n",
       "        vertical-align: middle;\n",
       "    }\n",
       "\n",
       "    .dataframe tbody tr th {\n",
       "        vertical-align: top;\n",
       "    }\n",
       "\n",
       "    .dataframe thead th {\n",
       "        text-align: right;\n",
       "    }\n",
       "</style>\n",
       "<table border=\"1\" class=\"dataframe\">\n",
       "  <thead>\n",
       "    <tr style=\"text-align: right;\">\n",
       "      <th></th>\n",
       "      <th>conceptType</th>\n",
       "      <th>conceptUri</th>\n",
       "      <th>iscoGroup</th>\n",
       "      <th>preferredLabel</th>\n",
       "      <th>altLabels</th>\n",
       "      <th>hiddenLabels</th>\n",
       "      <th>status</th>\n",
       "      <th>modifiedDate</th>\n",
       "      <th>regulatedProfessionNote</th>\n",
       "      <th>scopeNote</th>\n",
       "      <th>definition</th>\n",
       "      <th>inScheme</th>\n",
       "      <th>description</th>\n",
       "      <th>code</th>\n",
       "    </tr>\n",
       "  </thead>\n",
       "  <tbody>\n",
       "    <tr>\n",
       "      <th>2884</th>\n",
       "      <td>Occupation</td>\n",
       "      <td>http://data.europa.eu/esco/occupation/f2cc5978...</td>\n",
       "      <td>110</td>\n",
       "      <td>air force officer</td>\n",
       "      <td>royal airforce officer\\nflight lieutenant\\nfli...</td>\n",
       "      <td>NaN</td>\n",
       "      <td>released</td>\n",
       "      <td>2024-01-18T12:19:47.056Z</td>\n",
       "      <td>http://data.europa.eu/esco/regulated-professio...</td>\n",
       "      <td>NaN</td>\n",
       "      <td>NaN</td>\n",
       "      <td>http://data.europa.eu/esco/concept-scheme/memb...</td>\n",
       "      <td>Air force officers specialise in flying or gro...</td>\n",
       "      <td>0110.1</td>\n",
       "    </tr>\n",
       "  </tbody>\n",
       "</table>\n",
       "</div>"
      ],
      "text/plain": [
       "     conceptType                                         conceptUri  \\\n",
       "2884  Occupation  http://data.europa.eu/esco/occupation/f2cc5978...   \n",
       "\n",
       "      iscoGroup     preferredLabel  \\\n",
       "2884        110  air force officer   \n",
       "\n",
       "                                              altLabels hiddenLabels  \\\n",
       "2884  royal airforce officer\\nflight lieutenant\\nfli...          NaN   \n",
       "\n",
       "        status              modifiedDate  \\\n",
       "2884  released  2024-01-18T12:19:47.056Z   \n",
       "\n",
       "                                regulatedProfessionNote scopeNote definition  \\\n",
       "2884  http://data.europa.eu/esco/regulated-professio...       NaN        NaN   \n",
       "\n",
       "                                               inScheme  \\\n",
       "2884  http://data.europa.eu/esco/concept-scheme/memb...   \n",
       "\n",
       "                                            description    code  \n",
       "2884  Air force officers specialise in flying or gro...  0110.1  "
      ]
     },
     "execution_count": 15,
     "metadata": {},
     "output_type": "execute_result"
    }
   ],
   "source": [
    "df_esco.query(f'conceptUri == \"{df_talent_clef.iloc[0,1]}\"')"
   ]
  },
  {
   "cell_type": "code",
   "execution_count": 22,
   "id": "05cf8ea4",
   "metadata": {},
   "outputs": [
    {
     "data": {
      "text/plain": [
       "'http://data.europa.eu/esco/occupation/f2cc5978-e45c-4f28-b859-7f89221b0505'"
      ]
     },
     "execution_count": 22,
     "metadata": {},
     "output_type": "execute_result"
    }
   ],
   "source": [
    "df_talent_clef.iloc[1,1]"
   ]
  },
  {
   "cell_type": "code",
   "execution_count": 23,
   "id": "f7e2d7b8",
   "metadata": {},
   "outputs": [
    {
     "data": {
      "text/html": [
       "<div>\n",
       "<style scoped>\n",
       "    .dataframe tbody tr th:only-of-type {\n",
       "        vertical-align: middle;\n",
       "    }\n",
       "\n",
       "    .dataframe tbody tr th {\n",
       "        vertical-align: top;\n",
       "    }\n",
       "\n",
       "    .dataframe thead th {\n",
       "        text-align: right;\n",
       "    }\n",
       "</style>\n",
       "<table border=\"1\" class=\"dataframe\">\n",
       "  <thead>\n",
       "    <tr style=\"text-align: right;\">\n",
       "      <th></th>\n",
       "      <th>conceptType</th>\n",
       "      <th>conceptUri</th>\n",
       "      <th>iscoGroup</th>\n",
       "      <th>preferredLabel</th>\n",
       "      <th>altLabels</th>\n",
       "      <th>hiddenLabels</th>\n",
       "      <th>status</th>\n",
       "      <th>modifiedDate</th>\n",
       "      <th>regulatedProfessionNote</th>\n",
       "      <th>scopeNote</th>\n",
       "      <th>definition</th>\n",
       "      <th>inScheme</th>\n",
       "      <th>description</th>\n",
       "      <th>code</th>\n",
       "    </tr>\n",
       "  </thead>\n",
       "  <tbody>\n",
       "    <tr>\n",
       "      <th>2884</th>\n",
       "      <td>Occupation</td>\n",
       "      <td>http://data.europa.eu/esco/occupation/f2cc5978...</td>\n",
       "      <td>110</td>\n",
       "      <td>air force officer</td>\n",
       "      <td>royal airforce officer\\nflight lieutenant\\nfli...</td>\n",
       "      <td>NaN</td>\n",
       "      <td>released</td>\n",
       "      <td>2024-01-18T12:19:47.056Z</td>\n",
       "      <td>http://data.europa.eu/esco/regulated-professio...</td>\n",
       "      <td>NaN</td>\n",
       "      <td>NaN</td>\n",
       "      <td>http://data.europa.eu/esco/concept-scheme/memb...</td>\n",
       "      <td>Air force officers specialise in flying or gro...</td>\n",
       "      <td>0110.1</td>\n",
       "    </tr>\n",
       "  </tbody>\n",
       "</table>\n",
       "</div>"
      ],
      "text/plain": [
       "     conceptType                                         conceptUri  \\\n",
       "2884  Occupation  http://data.europa.eu/esco/occupation/f2cc5978...   \n",
       "\n",
       "      iscoGroup     preferredLabel  \\\n",
       "2884        110  air force officer   \n",
       "\n",
       "                                              altLabels hiddenLabels  \\\n",
       "2884  royal airforce officer\\nflight lieutenant\\nfli...          NaN   \n",
       "\n",
       "        status              modifiedDate  \\\n",
       "2884  released  2024-01-18T12:19:47.056Z   \n",
       "\n",
       "                                regulatedProfessionNote scopeNote definition  \\\n",
       "2884  http://data.europa.eu/esco/regulated-professio...       NaN        NaN   \n",
       "\n",
       "                                               inScheme  \\\n",
       "2884  http://data.europa.eu/esco/concept-scheme/memb...   \n",
       "\n",
       "                                            description    code  \n",
       "2884  Air force officers specialise in flying or gro...  0110.1  "
      ]
     },
     "execution_count": 23,
     "metadata": {},
     "output_type": "execute_result"
    }
   ],
   "source": [
    "df_esco.query(f'conceptUri == \"{df_talent_clef.iloc[1,1]}\"')"
   ]
  },
  {
   "cell_type": "code",
   "execution_count": 24,
   "id": "db77187d",
   "metadata": {},
   "outputs": [
    {
     "data": {
      "text/html": [
       "<div>\n",
       "<style scoped>\n",
       "    .dataframe tbody tr th:only-of-type {\n",
       "        vertical-align: middle;\n",
       "    }\n",
       "\n",
       "    .dataframe tbody tr th {\n",
       "        vertical-align: top;\n",
       "    }\n",
       "\n",
       "    .dataframe thead th {\n",
       "        text-align: right;\n",
       "    }\n",
       "</style>\n",
       "<table border=\"1\" class=\"dataframe\">\n",
       "  <thead>\n",
       "    <tr style=\"text-align: right;\">\n",
       "      <th></th>\n",
       "      <th>family_id</th>\n",
       "      <th>id</th>\n",
       "      <th>jobtitle_1</th>\n",
       "      <th>job_title_2</th>\n",
       "    </tr>\n",
       "  </thead>\n",
       "  <tbody>\n",
       "    <tr>\n",
       "      <th>0</th>\n",
       "      <td>http://data.europa.eu/esco/isco/C0110</td>\n",
       "      <td>http://data.europa.eu/esco/occupation/f2cc5978...</td>\n",
       "      <td>air commodore</td>\n",
       "      <td>flight lieutenant</td>\n",
       "    </tr>\n",
       "    <tr>\n",
       "      <th>1</th>\n",
       "      <td>http://data.europa.eu/esco/isco/C0110</td>\n",
       "      <td>http://data.europa.eu/esco/occupation/f2cc5978...</td>\n",
       "      <td>command and control officer</td>\n",
       "      <td>flight officer</td>\n",
       "    </tr>\n",
       "    <tr>\n",
       "      <th>2</th>\n",
       "      <td>http://data.europa.eu/esco/isco/C0110</td>\n",
       "      <td>http://data.europa.eu/esco/occupation/f2cc5978...</td>\n",
       "      <td>air commodore</td>\n",
       "      <td>command and control officer</td>\n",
       "    </tr>\n",
       "    <tr>\n",
       "      <th>3</th>\n",
       "      <td>http://data.europa.eu/esco/isco/C0110</td>\n",
       "      <td>http://data.europa.eu/esco/occupation/f2cc5978...</td>\n",
       "      <td>pilot officer</td>\n",
       "      <td>squadron leader</td>\n",
       "    </tr>\n",
       "    <tr>\n",
       "      <th>4</th>\n",
       "      <td>http://data.europa.eu/esco/isco/C0110</td>\n",
       "      <td>http://data.europa.eu/esco/occupation/f2cc5978...</td>\n",
       "      <td>royal airforce officer</td>\n",
       "      <td>command and control officer</td>\n",
       "    </tr>\n",
       "  </tbody>\n",
       "</table>\n",
       "</div>"
      ],
      "text/plain": [
       "                               family_id  \\\n",
       "0  http://data.europa.eu/esco/isco/C0110   \n",
       "1  http://data.europa.eu/esco/isco/C0110   \n",
       "2  http://data.europa.eu/esco/isco/C0110   \n",
       "3  http://data.europa.eu/esco/isco/C0110   \n",
       "4  http://data.europa.eu/esco/isco/C0110   \n",
       "\n",
       "                                                  id  \\\n",
       "0  http://data.europa.eu/esco/occupation/f2cc5978...   \n",
       "1  http://data.europa.eu/esco/occupation/f2cc5978...   \n",
       "2  http://data.europa.eu/esco/occupation/f2cc5978...   \n",
       "3  http://data.europa.eu/esco/occupation/f2cc5978...   \n",
       "4  http://data.europa.eu/esco/occupation/f2cc5978...   \n",
       "\n",
       "                    jobtitle_1                  job_title_2  \n",
       "0                air commodore            flight lieutenant  \n",
       "1  command and control officer               flight officer  \n",
       "2                air commodore  command and control officer  \n",
       "3                pilot officer              squadron leader  \n",
       "4       royal airforce officer  command and control officer  "
      ]
     },
     "execution_count": 24,
     "metadata": {},
     "output_type": "execute_result"
    }
   ],
   "source": [
    "df_talent_clef.head()"
   ]
  },
  {
   "cell_type": "code",
   "execution_count": null,
   "id": "ec168ee0",
   "metadata": {},
   "outputs": [],
   "source": []
  }
 ],
 "metadata": {
  "kernelspec": {
   "display_name": "thesis",
   "language": "python",
   "name": "python3"
  },
  "language_info": {
   "codemirror_mode": {
    "name": "ipython",
    "version": 3
   },
   "file_extension": ".py",
   "mimetype": "text/x-python",
   "name": "python",
   "nbconvert_exporter": "python",
   "pygments_lexer": "ipython3",
   "version": "3.11.13"
  }
 },
 "nbformat": 4,
 "nbformat_minor": 5
}
